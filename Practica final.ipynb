{
 "cells": [
  {
   "cell_type": "code",
   "execution_count": 5,
   "id": "89fcfb36-80e6-43cc-b25d-8d6e77b1591d",
   "metadata": {
    "tags": []
   },
   "outputs": [
    {
     "ename": "NameError",
     "evalue": "name 'pd' is not defined",
     "output_type": "error",
     "traceback": [
      "\u001b[1;31m---------------------------------------------------------------------------\u001b[0m",
      "\u001b[1;31mNameError\u001b[0m                                 Traceback (most recent call last)",
      "Cell \u001b[1;32mIn[5], line 1\u001b[0m\n\u001b[1;32m----> 1\u001b[0m septiembre2014\u001b[38;5;241m=\u001b[39m\u001b[43mpd\u001b[49m\u001b[38;5;241m.\u001b[39mread_excel(\u001b[38;5;124m\"\u001b[39m\u001b[38;5;124mVentasGroucery_Meses (1).xlsx\u001b[39m\u001b[38;5;124m\"\u001b[39m, sheet_name\u001b[38;5;241m=\u001b[39m\u001b[38;5;124m\"\u001b[39m\u001b[38;5;124mVentas Septiembre 2014\u001b[39m\u001b[38;5;124m\"\u001b[39m)\n\u001b[0;32m      3\u001b[0m agosto2014\u001b[38;5;241m=\u001b[39mpd\u001b[38;5;241m.\u001b[39mread_excel(\u001b[38;5;124m\"\u001b[39m\u001b[38;5;124mVentasGroucery_Meses (1).xlsx\u001b[39m\u001b[38;5;124m\"\u001b[39m, sheet_name\u001b[38;5;241m=\u001b[39m\u001b[38;5;124m\"\u001b[39m\u001b[38;5;124mVentas Agosto 2014\u001b[39m\u001b[38;5;124m\"\u001b[39m) \n\u001b[0;32m      5\u001b[0m octubre2014\u001b[38;5;241m=\u001b[39mpd\u001b[38;5;241m.\u001b[39mread_excel(\u001b[38;5;124m\"\u001b[39m\u001b[38;5;124mVentasGroucery_Meses (1).xlsx\u001b[39m\u001b[38;5;124m\"\u001b[39m, sheet_name\u001b[38;5;241m=\u001b[39m\u001b[38;5;124m\"\u001b[39m\u001b[38;5;124mVentas Octubre 2014\u001b[39m\u001b[38;5;124m\"\u001b[39m)\n",
      "\u001b[1;31mNameError\u001b[0m: name 'pd' is not defined"
     ]
    }
   ],
   "source": [
    "septiembre2014=pd.read_excel(\"VentasGroucery_Meses (1).xlsx\", sheet_name=\"Ventas Septiembre 2014\")\n",
    "\n",
    "agosto2014=pd.read_excel(\"VentasGroucery_Meses (1).xlsx\", sheet_name=\"Ventas Agosto 2014\") \n",
    "\n",
    "octubre2014=pd.read_excel(\"VentasGroucery_Meses (1).xlsx\", sheet_name=\"Ventas Octubre 2014\")\n",
    "\n",
    "#unir los data frame \n",
    "quarter=pd.concat([agosto2014,septiembre2014,octubre2014])\n",
    "quarter[\"Amount\"]=quarter[\"Unit Price\"]*quarter[\"Quantity\"]\n",
    "quarter[\"Discount\"]=quarter[\"Amount\"]*0.03\n",
    "quarter[\"Amount2\"]=quarter[\"Amount\"]*quarter[\"Discount\"]\n",
    "#crear funcion clasificatoria\n",
    "def clasificarzona(x):\n",
    "    if(==x\"France\")|(x==\"Germany\")|(x==\"Spain\")|(x==\"Italy\")\n",
    "      return\"Zona Europe\"\n",
    "    elif(x===\"USA\")|(X==\"Mexico\"):\n",
    "        return\"Zona America1\"\n",
    "    elif(x==\"Brazil\")|(x==\"Venezuela\"):\n",
    "        return\"\n",
    "  \n"
   ]
  },
  {
   "cell_type": "code",
   "execution_count": null,
   "id": "032c2b30-7bed-4eb7-bac1-636636159988",
   "metadata": {},
   "outputs": [],
   "source": []
  }
 ],
 "metadata": {
  "kernelspec": {
   "display_name": "Python 3 (ipykernel)",
   "language": "python",
   "name": "python3"
  },
  "language_info": {
   "codemirror_mode": {
    "name": "ipython",
    "version": 3
   },
   "file_extension": ".py",
   "mimetype": "text/x-python",
   "name": "python",
   "nbconvert_exporter": "python",
   "pygments_lexer": "ipython3",
   "version": "3.11.3"
  }
 },
 "nbformat": 4,
 "nbformat_minor": 5
}
